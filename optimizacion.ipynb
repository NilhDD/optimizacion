{
 "cells": [
  {
   "cell_type": "markdown",
   "id": "5161c89d",
   "metadata": {},
   "source": [
    "# Algoritmos de Optimización.\n",
    "## Samuel De Dios"
   ]
  },
  {
   "cell_type": "markdown",
   "id": "fc4d616a",
   "metadata": {},
   "source": [
    "## Programación lineal."
   ]
  },
  {
   "cell_type": "markdown",
   "id": "52f4e49d",
   "metadata": {},
   "source": [
    "Importar libreria."
   ]
  },
  {
   "cell_type": "code",
   "execution_count": 7,
   "id": "74f5e64b",
   "metadata": {},
   "outputs": [
    {
     "name": "stdout",
     "output_type": "stream",
     "text": [
      "Requirement already satisfied: pulp in c:\\users\\samuel\\appdata\\local\\programs\\python\\python310\\lib\\site-packages (3.2.1)\n"
     ]
    },
    {
     "name": "stderr",
     "output_type": "stream",
     "text": [
      "\n",
      "[notice] A new release of pip is available: 23.3.2 -> 25.1.1\n",
      "[notice] To update, run: python.exe -m pip install --upgrade pip\n"
     ]
    }
   ],
   "source": [
    "!pip install pulp\n",
    "from pulp import *"
   ]
  },
  {
   "cell_type": "markdown",
   "id": "a8af01fc",
   "metadata": {},
   "source": [
    "### Ejemplo min.\n",
    "\n",
    "Se usa de ejemplo este ejercicio.\n",
    "\n",
    "\\begin{align*}\n",
    "\\text{Minimizar }&19x_{1}+57x_{2} \\\\\n",
    "\\text{Restric. }& x_{1} + 2x_{2} \\geq 10\\\\\n",
    "& x_{1} + 4x_{2} \\geq 24\\\\\n",
    "& 3x_{1} + 2x_{2} \\geq 20\\\\\n",
    "& 5x_{1} + x_{2} \\geq 25\\\\\n",
    "\\end{align*}"
   ]
  },
  {
   "cell_type": "markdown",
   "id": "d01326ba",
   "metadata": {},
   "source": [
    "Se define un objeto problema, luego se pone nombre y lo que se quiere hacer (minimizar o maximizar), luego se definen las variables del problema."
   ]
  },
  {
   "cell_type": "code",
   "execution_count": 8,
   "id": "cda09144",
   "metadata": {},
   "outputs": [],
   "source": [
    "problema = LpProblem(\"proLineal\", LpMinimize)\n",
    "x1 = LpVariable(\"x1\", lowBound = 0)\n",
    "x2 = LpVariable(\"x2\", lowBound = 0)"
   ]
  },
  {
   "cell_type": "markdown",
   "id": "065b9005",
   "metadata": {},
   "source": [
    "Se agrega primero la función objetivo y despues las restricciones."
   ]
  },
  {
   "cell_type": "code",
   "execution_count": 9,
   "id": "9a641a8a",
   "metadata": {},
   "outputs": [],
   "source": [
    "problema += 19*x1 + 57*x2\n",
    "problema += x1 + 2*x2 >= 10\n",
    "problema += x1 + 4*x2 >= 24\n",
    "problema += 3*x1 + 2*x2 >= 20\n",
    "problema += 5*x1 + x2 >= 25"
   ]
  },
  {
   "cell_type": "markdown",
   "id": "e3f767ef",
   "metadata": {},
   "source": [
    "Se solucciona el problema."
   ]
  },
  {
   "cell_type": "code",
   "execution_count": 10,
   "id": "a8ea12e6",
   "metadata": {},
   "outputs": [
    {
     "name": "stdout",
     "output_type": "stream",
     "text": [
      "x1 = 4.0 y x2 = 5.0, con valor optimo 361.0\n"
     ]
    }
   ],
   "source": [
    "problema.solve()\n",
    "\n",
    "print(f\"x1 = {x1.varValue} y x2 = {x2.varValue}, con valor optimo {value(problema.objective)}\")"
   ]
  },
  {
   "cell_type": "markdown",
   "id": "fbf6a234",
   "metadata": {},
   "source": [
    "### Ejemplo max.\n",
    "\n",
    "\\begin{align*}\n",
    "\\text{Minimizar }&10x_{1} + 24x_{2} + 20x_{3} + 35x_{4} \\\\\n",
    "\\text{Restric. }& x_{1} + x_{2} + 3x_{3} + 5x_{4} \\leq 19\\\\\n",
    "& 2x_{1} + 4x_{2} + 2x_{3} + x_{4} \\leq 57\\\\\n",
    "\\end{align*}"
   ]
  },
  {
   "cell_type": "markdown",
   "id": "7b8ee837",
   "metadata": {},
   "source": [
    "Definicion del problema."
   ]
  },
  {
   "cell_type": "code",
   "execution_count": 11,
   "id": "3df1eb88",
   "metadata": {},
   "outputs": [],
   "source": [
    "problema = LpProblem(\"prolineal\", LpMaximize)\n",
    "x1 = LpVariable(\"x1\", lowBound = 0)\n",
    "x2 = LpVariable(\"x2\", lowBound = 0)\n",
    "x3 = LpVariable(\"x3\", lowBound = 0)\n",
    "x4 = LpVariable(\"x4\", lowBound = 0)\n",
    "\n",
    "problema += 10*x1 + 24*x2 + 20*x3 + 35*x4\n",
    "problema += x1 + x2 + 3*x3 + 5*x4 <= 19\n",
    "problema += 2*x1 + 4*x2 + 2*x3 + x4 <= 57"
   ]
  },
  {
   "cell_type": "code",
   "execution_count": 12,
   "id": "a6d7aabb",
   "metadata": {},
   "outputs": [
    {
     "name": "stdout",
     "output_type": "stream",
     "text": [
      "x1 = 0.0, x2 = 14.0, x3 = 0.0 y x4 = 1.0, con valor optimo 371.0\n"
     ]
    }
   ],
   "source": [
    "problema.solve()\n",
    "\n",
    "print(f\"x1 = {x1.varValue}, x2 = {x2.varValue}, x3 = {x3.varValue} y x4 = {x4.varValue}, con valor optimo {value(problema.objective)}\")"
   ]
  },
  {
   "cell_type": "markdown",
   "id": "39e6e418",
   "metadata": {},
   "source": [
    "## Optimización sin restricciones."
   ]
  },
  {
   "cell_type": "markdown",
   "id": "1071a53d",
   "metadata": {},
   "source": [
    "## Librerías."
   ]
  },
  {
   "cell_type": "code",
   "execution_count": null,
   "id": "49e34152",
   "metadata": {},
   "outputs": [],
   "source": [
    "import math\n",
    "import sympy as sp\n",
    "import numpy as np\n",
    "import scipy as sci"
   ]
  },
  {
   "cell_type": "markdown",
   "id": "2eec0979",
   "metadata": {},
   "source": [
    "## Funciones basicas."
   ]
  },
  {
   "cell_type": "code",
   "execution_count": 15,
   "id": "f35dfd15",
   "metadata": {},
   "outputs": [],
   "source": [
    "def evaluar_func(funcion, values):\n",
    "  #Evalua la funcion con los valores\n",
    "  return eval(funcion, vars(math), values)\n",
    "\n",
    "def derivate(funcion, var = ['x'], num = [1]):\n",
    "  #recibe una funcion, una lista de variables con las que derivara y el numero de veces de cada una\n",
    "  for i, v in enumerate(var):\n",
    "    funcion = str(sp.diff(funcion, v, num[i]))\n",
    "  return funcion\n",
    "\n",
    "def find_in_list(target, py_list):\n",
    "  #Encuentra target en py_list\n",
    "  for i in range(len(py_list)):\n",
    "    if py_list[i] == target:\n",
    "      return i"
   ]
  },
  {
   "cell_type": "markdown",
   "id": "c152d49f",
   "metadata": {},
   "source": [
    "### Optimización de una variable."
   ]
  },
  {
   "cell_type": "markdown",
   "id": "1330f29e",
   "metadata": {},
   "source": [
    "#### Método de sección dorada.\n",
    "Es necesario darle a la función la funcion objetivo (`funcion`), un intervalo donde buscar (`cota_inf` y `cota_sup`) y por ultimo una tolerancia `h` que esta predefinida en $0.01$."
   ]
  },
  {
   "cell_type": "code",
   "execution_count": 16,
   "id": "6b6420ba",
   "metadata": {},
   "outputs": [],
   "source": [
    "def sec_dorada(funcion, cota_inf, cota_sup, h = 0.01):\n",
    "  lam = \"a + (1 - (((5**(1 / 2)) - 1) / 2)) * (b - a)\"\n",
    "  miu = \"a + ((((5**(1 / 2)) - 1) / 2) * (b - a))\"\n",
    "\n",
    "  row = [1, cota_inf, cota_sup, evaluar_func(lam, {\"a\":cota_inf, \"b\":cota_sup}), evaluar_func(miu, {\"a\":cota_inf, \"b\":cota_sup}), evaluar_func(funcion, {\"x\":evaluar_func(lam,{\"a\":cota_inf, \"b\":cota_sup})}), evaluar_func(funcion, {\"x\":evaluar_func(miu, {\"a\":cota_inf, \"b\":cota_sup})}), (cota_sup - cota_inf)]\n",
    "\n",
    "  while row[7] >= h:\n",
    "    #print(row)\n",
    "    if row[5] >= row[6]:\n",
    "      row[1] = row[3]\n",
    "    else:\n",
    "      row[2] = row[4]\n",
    "\n",
    "    row[3] = evaluar_func(lam, {\"a\":row[1], \"b\":row[2]})\n",
    "    row[4] = evaluar_func(miu, {\"a\":row[1], \"b\":row[2]})\n",
    "    row[5] = evaluar_func(funcion, {\"x\":row[3]})\n",
    "    row[6] = evaluar_func(funcion, {\"x\":row[4]})\n",
    "    row[7] = row[2] - row[1]\n",
    "    row[0] += 1\n",
    "\n",
    "    opti = (row[1] + row[2]) / 2\n",
    "\n",
    "  return (opti, evaluar_func(funcion, {'x':opti}))"
   ]
  },
  {
   "cell_type": "code",
   "execution_count": 19,
   "id": "f5b11534",
   "metadata": {},
   "outputs": [
    {
     "name": "stdout",
     "output_type": "stream",
     "text": [
      "el punto óptimo es: (-1.746147178353358, -0.8102206372964167)\n"
     ]
    }
   ],
   "source": [
    "print(f'el punto óptimo es: {sec_dorada(\"e**x+sin(x)\", -4, 4, h = 0.0001)}')"
   ]
  },
  {
   "cell_type": "code",
   "execution_count": 20,
   "id": "39fbf16b",
   "metadata": {},
   "outputs": [
    {
     "name": "stdout",
     "output_type": "stream",
     "text": [
      "el punto óptimo es: (-0.7854243825048068, -0.32239694172320926)\n"
     ]
    }
   ],
   "source": [
    "print(f'el punto óptimo es: {sec_dorada(\"sin(x)*e**x\", -2, 1, h = 0.001)}')"
   ]
  }
 ],
 "metadata": {
  "kernelspec": {
   "display_name": "Python 3",
   "language": "python",
   "name": "python3"
  },
  "language_info": {
   "codemirror_mode": {
    "name": "ipython",
    "version": 3
   },
   "file_extension": ".py",
   "mimetype": "text/x-python",
   "name": "python",
   "nbconvert_exporter": "python",
   "pygments_lexer": "ipython3",
   "version": "3.10.3"
  }
 },
 "nbformat": 4,
 "nbformat_minor": 5
}
