{
 "cells": [
  {
   "cell_type": "markdown",
   "id": "5161c89d",
   "metadata": {},
   "source": [
    "# Algoritmos de Optimización.\n",
    "## Samuel De Dios"
   ]
  },
  {
   "cell_type": "markdown",
   "id": "fc4d616a",
   "metadata": {},
   "source": [
    "## Programación lineal"
   ]
  },
  {
   "cell_type": "markdown",
   "id": "52f4e49d",
   "metadata": {},
   "source": [
    "Importar libreria."
   ]
  },
  {
   "cell_type": "code",
   "execution_count": 7,
   "id": "74f5e64b",
   "metadata": {},
   "outputs": [
    {
     "name": "stdout",
     "output_type": "stream",
     "text": [
      "Requirement already satisfied: pulp in c:\\users\\samuel\\appdata\\local\\programs\\python\\python310\\lib\\site-packages (3.2.1)\n"
     ]
    },
    {
     "name": "stderr",
     "output_type": "stream",
     "text": [
      "\n",
      "[notice] A new release of pip is available: 23.3.2 -> 25.1.1\n",
      "[notice] To update, run: python.exe -m pip install --upgrade pip\n"
     ]
    }
   ],
   "source": [
    "!pip install pulp\n",
    "from pulp import *"
   ]
  },
  {
   "cell_type": "markdown",
   "id": "5cc84f88",
   "metadata": {},
   "source": [
    "Se usa de ejemplo este ejercicio.\n",
    "\n",
    "\\begin{align*}\n",
    "\\text{Minimizar }&19x_{1}+57x_{2} \\\\\n",
    "\\text{Restric }& x_{1} + 2x_{2} \\geq 10\\\\\n",
    "& x_{1} + 4x_{2} \\geq 24\\\\\n",
    "& 3x_{1} + 2x_{2} \\geq 20\\\\\n",
    "& 5x_{1} + x_{2} \\geq 25\\\\\n",
    "\\end{align*}"
   ]
  },
  {
   "cell_type": "markdown",
   "id": "d01326ba",
   "metadata": {},
   "source": [
    "Se define un objeto problema, luego se pone nombre y lo que se quiere hacer (minimizar o maximizar), luego se definen las variables del problema."
   ]
  },
  {
   "cell_type": "code",
   "execution_count": 8,
   "id": "cda09144",
   "metadata": {},
   "outputs": [],
   "source": [
    "problema = LpProblem(\"proLineal\", LpMinimize)\n",
    "x1 = LpVariable(\"x1\", lowBound = 0)\n",
    "x2 = LpVariable(\"x2\", lowBound = 0)"
   ]
  },
  {
   "cell_type": "markdown",
   "id": "065b9005",
   "metadata": {},
   "source": [
    "Se agrega primero la función objetivo y despues las restricciones."
   ]
  },
  {
   "cell_type": "code",
   "execution_count": 9,
   "id": "9a641a8a",
   "metadata": {},
   "outputs": [],
   "source": [
    "problema += 19*x1 + 57*x2\n",
    "problema += x1 + 2*x2 >= 10\n",
    "problema += x1 + 4*x2 >= 24\n",
    "problema += 3*x1 + 2*x2 >= 20\n",
    "problema += 5*x1 + x2 >= 25"
   ]
  },
  {
   "cell_type": "markdown",
   "id": "e3f767ef",
   "metadata": {},
   "source": [
    "Se solucciona el problema."
   ]
  },
  {
   "cell_type": "code",
   "execution_count": 10,
   "id": "a8ea12e6",
   "metadata": {},
   "outputs": [
    {
     "name": "stdout",
     "output_type": "stream",
     "text": [
      "x1 = 4.0 y x2 = 5.0, con valor optimo 361.0\n"
     ]
    }
   ],
   "source": [
    "problema.solve()\n",
    "\n",
    "print(f\"x1 = {x1.varValue} y x2 = {x2.varValue}, con valor optimo {value(problema.objective)}\")"
   ]
  }
 ],
 "metadata": {
  "kernelspec": {
   "display_name": "Python 3",
   "language": "python",
   "name": "python3"
  },
  "language_info": {
   "codemirror_mode": {
    "name": "ipython",
    "version": 3
   },
   "file_extension": ".py",
   "mimetype": "text/x-python",
   "name": "python",
   "nbconvert_exporter": "python",
   "pygments_lexer": "ipython3",
   "version": "3.10.3"
  }
 },
 "nbformat": 4,
 "nbformat_minor": 5
}
