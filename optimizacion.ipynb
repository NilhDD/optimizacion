{
 "cells": [
  {
   "cell_type": "markdown",
   "id": "5161c89d",
   "metadata": {},
   "source": [
    "# Algoritmos de Optimización.\n",
    "Por: Samuel De Dios"
   ]
  },
  {
   "cell_type": "markdown",
   "id": "fc4d616a",
   "metadata": {},
   "source": [
    "## Programación lineal."
   ]
  },
  {
   "cell_type": "markdown",
   "id": "52f4e49d",
   "metadata": {},
   "source": [
    "Importar libreria."
   ]
  },
  {
   "cell_type": "code",
   "execution_count": 6,
   "id": "74f5e64b",
   "metadata": {},
   "outputs": [
    {
     "name": "stdout",
     "output_type": "stream",
     "text": [
      "Requirement already satisfied: pulp in c:\\users\\samuel\\appdata\\local\\programs\\python\\python310\\lib\\site-packages (3.2.1)\n"
     ]
    },
    {
     "name": "stderr",
     "output_type": "stream",
     "text": [
      "\n",
      "[notice] A new release of pip is available: 23.3.2 -> 25.1.1\n",
      "[notice] To update, run: python.exe -m pip install --upgrade pip\n"
     ]
    }
   ],
   "source": [
    "!pip install pulp\n",
    "from pulp import *"
   ]
  },
  {
   "cell_type": "markdown",
   "id": "a8af01fc",
   "metadata": {},
   "source": [
    "### Ejemplo min.\n",
    "\n",
    "Se usa de ejemplo este ejercicio.\n",
    "\n",
    "\\begin{align*}\n",
    "\\text{Minimizar }&19x_{1}+57x_{2} \\\\\n",
    "\\text{Restric. }& x_{1} + 2x_{2} \\geq 10\\\\\n",
    "& x_{1} + 4x_{2} \\geq 24\\\\\n",
    "& 3x_{1} + 2x_{2} \\geq 20\\\\\n",
    "& 5x_{1} + x_{2} \\geq 25\\\\\n",
    "\\end{align*}"
   ]
  },
  {
   "cell_type": "markdown",
   "id": "d01326ba",
   "metadata": {},
   "source": [
    "Se define un objeto problema, luego se pone nombre y lo que se quiere hacer (minimizar o maximizar), luego se definen las variables del problema."
   ]
  },
  {
   "cell_type": "code",
   "execution_count": 7,
   "id": "cda09144",
   "metadata": {},
   "outputs": [],
   "source": [
    "problema = LpProblem(\"proLineal\", LpMinimize)\n",
    "x1 = LpVariable(\"x1\", lowBound = 0)\n",
    "x2 = LpVariable(\"x2\", lowBound = 0)"
   ]
  },
  {
   "cell_type": "markdown",
   "id": "065b9005",
   "metadata": {},
   "source": [
    "Se agrega primero la función objetivo y despues las restricciones."
   ]
  },
  {
   "cell_type": "code",
   "execution_count": 8,
   "id": "9a641a8a",
   "metadata": {},
   "outputs": [],
   "source": [
    "problema += 19*x1 + 57*x2\n",
    "problema += x1 + 2*x2 >= 10\n",
    "problema += x1 + 4*x2 >= 24\n",
    "problema += 3*x1 + 2*x2 >= 20\n",
    "problema += 5*x1 + x2 >= 25"
   ]
  },
  {
   "cell_type": "markdown",
   "id": "e3f767ef",
   "metadata": {},
   "source": [
    "Se solucciona el problema."
   ]
  },
  {
   "cell_type": "code",
   "execution_count": 9,
   "id": "a8ea12e6",
   "metadata": {},
   "outputs": [
    {
     "name": "stdout",
     "output_type": "stream",
     "text": [
      "x1 = 4.0 y x2 = 5.0, con valor optimo 361.0\n"
     ]
    }
   ],
   "source": [
    "problema.solve()\n",
    "\n",
    "print(f\"x1 = {x1.varValue} y x2 = {x2.varValue}, con valor optimo {value(problema.objective)}\")"
   ]
  },
  {
   "cell_type": "markdown",
   "id": "fbf6a234",
   "metadata": {},
   "source": [
    "### Ejemplo max.\n",
    "\n",
    "\\begin{align*}\n",
    "\\text{Minimizar }&10x_{1} + 24x_{2} + 20x_{3} + 35x_{4} \\\\\n",
    "\\text{Restric. }& x_{1} + x_{2} + 3x_{3} + 5x_{4} \\leq 19\\\\\n",
    "& 2x_{1} + 4x_{2} + 2x_{3} + x_{4} \\leq 57\\\\\n",
    "\\end{align*}"
   ]
  },
  {
   "cell_type": "markdown",
   "id": "7b8ee837",
   "metadata": {},
   "source": [
    "Definicion del problema."
   ]
  },
  {
   "cell_type": "code",
   "execution_count": 10,
   "id": "3df1eb88",
   "metadata": {},
   "outputs": [],
   "source": [
    "problema = LpProblem(\"prolineal\", LpMaximize)\n",
    "x1 = LpVariable(\"x1\", lowBound = 0)\n",
    "x2 = LpVariable(\"x2\", lowBound = 0)\n",
    "x3 = LpVariable(\"x3\", lowBound = 0)\n",
    "x4 = LpVariable(\"x4\", lowBound = 0)\n",
    "\n",
    "problema += 10*x1 + 24*x2 + 20*x3 + 35*x4\n",
    "problema += x1 + x2 + 3*x3 + 5*x4 <= 19\n",
    "problema += 2*x1 + 4*x2 + 2*x3 + x4 <= 57"
   ]
  },
  {
   "cell_type": "code",
   "execution_count": 11,
   "id": "a6d7aabb",
   "metadata": {},
   "outputs": [
    {
     "name": "stdout",
     "output_type": "stream",
     "text": [
      "x1 = 0.0, x2 = 14.0, x3 = 0.0 y x4 = 1.0, con valor optimo 371.0\n"
     ]
    }
   ],
   "source": [
    "problema.solve()\n",
    "\n",
    "print(f\"x1 = {x1.varValue}, x2 = {x2.varValue}, x3 = {x3.varValue} y x4 = {x4.varValue}, con valor optimo {value(problema.objective)}\")"
   ]
  },
  {
   "cell_type": "markdown",
   "id": "39e6e418",
   "metadata": {},
   "source": [
    "## Optimización sin restricciones."
   ]
  },
  {
   "cell_type": "markdown",
   "id": "1071a53d",
   "metadata": {},
   "source": [
    "## Librerías."
   ]
  },
  {
   "cell_type": "code",
   "execution_count": 12,
   "id": "49e34152",
   "metadata": {},
   "outputs": [],
   "source": [
    "import math\n",
    "import sympy as sp\n",
    "import numpy as np\n",
    "import scipy as sci"
   ]
  },
  {
   "cell_type": "markdown",
   "id": "2eec0979",
   "metadata": {},
   "source": [
    "## Funciones basicas."
   ]
  },
  {
   "cell_type": "code",
   "execution_count": 13,
   "id": "f35dfd15",
   "metadata": {},
   "outputs": [],
   "source": [
    "def evaluar_func(funcion, values):\n",
    "  #Evalua la funcion con los valores\n",
    "  return eval(funcion, vars(math), values)\n",
    "\n",
    "def derivate(funcion, var = ['x'], num = [1]):\n",
    "  #recibe una funcion, una lista de variables con las que derivara y el numero de veces de cada una\n",
    "  for i, v in enumerate(var):\n",
    "    funcion = str(sp.diff(funcion, v, num[i]))\n",
    "  return funcion\n",
    "\n",
    "def find_in_list(target, py_list):\n",
    "  #Encuentra target en py_list\n",
    "  for i in range(len(py_list)):\n",
    "    if py_list[i] == target:\n",
    "      return i"
   ]
  },
  {
   "cell_type": "markdown",
   "id": "c152d49f",
   "metadata": {},
   "source": [
    "### Optimización de una variable."
   ]
  },
  {
   "cell_type": "markdown",
   "id": "1330f29e",
   "metadata": {},
   "source": [
    "#### Método de sección dorada.\n",
    "Es necesario darle a la función la funcion objetivo (`funcion`), un intervalo donde buscar (`cota_inf` y `cota_sup`) y por ultimo una tolerancia `h` que esta predefinida en $0.01$."
   ]
  },
  {
   "cell_type": "code",
   "execution_count": 14,
   "id": "6b6420ba",
   "metadata": {},
   "outputs": [],
   "source": [
    "def sec_dorada(funcion, cota_inf, cota_sup, h = 0.01):\n",
    "  lam = \"a + (1 - (((5**(1 / 2)) - 1) / 2)) * (b - a)\"\n",
    "  miu = \"a + ((((5**(1 / 2)) - 1) / 2) * (b - a))\"\n",
    "\n",
    "  lam_ini = evaluar_func(lam, {\"a\":cota_inf, \"b\":cota_sup})\n",
    "  miu_ini = evaluar_func(miu, {\"a\":cota_inf, \"b\":cota_sup})\n",
    "\n",
    "  funcion_li = evaluar_func(funcion, {\"x\":lam_ini})\n",
    "  funcion_mi = evaluar_func(funcion, {\"x\":miu_ini})\n",
    "\n",
    "  row = [1, cota_inf, cota_sup, lam_ini, miu_ini, funcion_li, funcion_mi, (cota_sup - cota_inf)]\n",
    "\n",
    "  while row[7] >= h:\n",
    "    #print(row)\n",
    "    if row[5] >= row[6]:\n",
    "      row[1] = row[3]\n",
    "    else:\n",
    "      row[2] = row[4]\n",
    "\n",
    "    row[3] = evaluar_func(lam, {\"a\":row[1], \"b\":row[2]})\n",
    "    row[4] = evaluar_func(miu, {\"a\":row[1], \"b\":row[2]})\n",
    "    row[5] = evaluar_func(funcion, {\"x\":row[3]})\n",
    "    row[6] = evaluar_func(funcion, {\"x\":row[4]})\n",
    "    row[7] = row[2] - row[1]\n",
    "    row[0] += 1\n",
    "\n",
    "    opti = (row[1] + row[2]) / 2\n",
    "\n",
    "  return (opti, evaluar_func(funcion, {'x':opti}))"
   ]
  },
  {
   "cell_type": "code",
   "execution_count": 15,
   "id": "f5b11534",
   "metadata": {},
   "outputs": [
    {
     "name": "stdout",
     "output_type": "stream",
     "text": [
      "el punto óptimo es: (-1.746147178353358, -0.8102206372964167)\n"
     ]
    }
   ],
   "source": [
    "print(f'el punto óptimo es: {sec_dorada(\"e**x+sin(x)\", -4, 4, h = 0.0001)}')"
   ]
  },
  {
   "cell_type": "code",
   "execution_count": 16,
   "id": "39fbf16b",
   "metadata": {},
   "outputs": [
    {
     "name": "stdout",
     "output_type": "stream",
     "text": [
      "el punto óptimo es: (-0.7854243825048068, -0.32239694172320926)\n"
     ]
    }
   ],
   "source": [
    "print(f'el punto óptimo es: {sec_dorada(\"sin(x)*e**x\", -2, 1, h = 0.001)}')"
   ]
  },
  {
   "cell_type": "markdown",
   "id": "acff33c5",
   "metadata": {},
   "source": [
    "#### Método de búsqueda de Fibonacci.\n",
    "Es necesario darle a la función la funcion objetivo (`funcion`), un intervalo donde buscar (`cota_inf` y `cota_sup`) y por ultimo una tolerancia `h` que esta predefinida en $0.01$."
   ]
  },
  {
   "cell_type": "code",
   "execution_count": 17,
   "id": "3517f715",
   "metadata": {},
   "outputs": [],
   "source": [
    "def fibonacci(ext):\n",
    "  lista = [1, 1]\n",
    "\n",
    "  while lista[-1] <= ext:\n",
    "    lista.append(lista[-1] + lista[-2])\n",
    "\n",
    "  return lista"
   ]
  },
  {
   "cell_type": "code",
   "execution_count": 18,
   "id": "1b5b2554",
   "metadata": {},
   "outputs": [],
   "source": [
    "def bus_fibonacci(funcion, cota_inf, cota_sup, h = 0.01):\n",
    "    inc = h / 10\n",
    "    fi = fibonacci((cota_sup - cota_inf) / h)\n",
    "    n = len(fi)\n",
    "\n",
    "    lam = \"a + (1 - (f/g)) * (b - a)\"\n",
    "    miu = \"a + ((f/g) * (b - a))\"\n",
    "\n",
    "    lam_ini = evaluar_func(lam, {\"a\":cota_inf, \"b\":cota_sup, \"f\":fi[-2], \"g\":fi[-1]})\n",
    "    miu_ini = evaluar_func(miu, {\"a\":cota_inf, \"b\":cota_sup, \"f\":fi[-2], \"g\":fi[-1]})\n",
    "\n",
    "    row = [1, cota_inf, cota_sup, lam_ini, miu_ini, evaluar_func(funcion, {\"x\":lam_ini}), evaluar_func(funcion, {\"x\":miu_ini}), (cota_sup - cota_inf)]\n",
    "\n",
    "    for i in range(1, n + 1):\n",
    "      #print(row)\n",
    "\n",
    "      if row[5] >= row[6]:\n",
    "        row[1] = row[3]\n",
    "      else:\n",
    "        row[2] = row[4]\n",
    "\n",
    "      row[3] = evaluar_func(lam, {\"a\":row[1], \"b\":row[2], \"f\":fi[n-i-1], \"g\":fi[n-i]})\n",
    "      row[4] = evaluar_func(miu, {\"a\":row[1], \"b\":row[2], \"f\":fi[n-i-1], \"g\":fi[n-i]})\n",
    "\n",
    "      if i != n-2:\n",
    "        row[5] = evaluar_func(funcion, {\"x\":row[3]})\n",
    "        row[6] = evaluar_func(funcion, {\"x\":row[4]})\n",
    "      else:\n",
    "        row_2 = [i, row[1], row[2], evaluar_func(lam, {\"a\":row[1], \"b\":row[2], \"f\":fi[n-i-1], \"g\":fi[n-i]}), evaluar_func(lam, {\"a\":row[1], \"b\":row[2], \"f\":fi[n-i-1], \"g\":fi[n-i]}) + inc]\n",
    "\n",
    "        if evaluar_func(funcion, {\"x\":row_2[3]}) > evaluar_func(funcion, {\"x\":row_2[4]}):\n",
    "          row_2[1] = row_2[3]\n",
    "        else:\n",
    "          row_2[2] = row_2[4]\n",
    "\n",
    "\n",
    "      row[7] = row[2] - row[1]\n",
    "      row[0] += 1\n",
    "    opti = (row[1] + row[2]) / 2\n",
    "\n",
    "    return (opti, evaluar_func(funcion, {'x':opti}))"
   ]
  },
  {
   "cell_type": "code",
   "execution_count": 19,
   "id": "eabc2ab5",
   "metadata": {},
   "outputs": [
    {
     "name": "stdout",
     "output_type": "stream",
     "text": [
      "el punto óptimo es: (-1.7461332462908614, -0.8102206373074288)\n"
     ]
    }
   ],
   "source": [
    "print('el punto óptimo es:', bus_fibonacci(\"e**x+sin(x)\", -4, 4, h = 0.0001))"
   ]
  },
  {
   "cell_type": "code",
   "execution_count": 20,
   "id": "8e830695",
   "metadata": {},
   "outputs": [
    {
     "name": "stdout",
     "output_type": "stream",
     "text": [
      "el punto óptimo es: (-12.039685592068945, -4.0794560863385065)\n"
     ]
    }
   ],
   "source": [
    "print('el punto óptimo es:', bus_fibonacci(\"6*e**(-0.1*x)+2*x\", -20, 20, h = 0.0001))"
   ]
  },
  {
   "cell_type": "markdown",
   "id": "534a8e8b",
   "metadata": {},
   "source": [
    "#### Método de búsqueda de bisección.\n",
    "Es necesario darle a la función la funcion objetivo (`funcion`), un intervalo donde buscar (`cota_inf` y `cota_sup`) y por ultimo una tolerancia `h` que esta predefinida en $0.01$. Este metodo usa la primera derivada de la funcion para encontrar en mínimo."
   ]
  },
  {
   "cell_type": "code",
   "execution_count": 21,
   "id": "e50dfe5a",
   "metadata": {},
   "outputs": [],
   "source": [
    "def bus_biseccion(funcion, cota_inf, cota_sup, h = 0.01):\n",
    "  deri = derivate(funcion)\n",
    "\n",
    "  row = [1, cota_inf, cota_sup, (cota_sup + cota_inf)/2, evaluar_func(deri, {'x':(cota_sup + cota_inf)/2}), cota_sup - cota_inf]\n",
    "\n",
    "  while row[-1] >= h and row[4] != 0:\n",
    "    #print(row)\n",
    "    row[0] += 1\n",
    "\n",
    "    if row[4] > 0:\n",
    "      row[2] = row[3]\n",
    "    else:\n",
    "      row[1] = row[3]\n",
    "\n",
    "    row[3] = (row[1] + row[2]) / 2\n",
    "    row[4] = evaluar_func(deri, {'x':row[3]})\n",
    "\n",
    "    row[-1] = row[2] - row[1]\n",
    "\n",
    "  return (row[3], evaluar_func(funcion, {'x':row[3]}))"
   ]
  },
  {
   "cell_type": "code",
   "execution_count": 22,
   "id": "080f19e0",
   "metadata": {},
   "outputs": [
    {
     "name": "stdout",
     "output_type": "stream",
     "text": [
      "el punto óptimo es: (-1.746124267578125, -0.8102206371953053)\n"
     ]
    }
   ],
   "source": [
    "print('el punto óptimo es:', bus_biseccion(\"e**x+sin(x)\", -4, 4, h = 0.0001))"
   ]
  },
  {
   "cell_type": "code",
   "execution_count": 23,
   "id": "f45a71aa",
   "metadata": {},
   "outputs": [
    {
     "name": "stdout",
     "output_type": "stream",
     "text": [
      "el punto óptimo es: (-12.039756774902344, -4.079456086436171)\n"
     ]
    }
   ],
   "source": [
    "print('el punto óptimo es:', bus_biseccion(\"6*e**(-0.1*x)+2*x\", -20, 20, h = 0.0001))"
   ]
  },
  {
   "cell_type": "markdown",
   "id": "fa7ab592",
   "metadata": {},
   "source": [
    "#### Método de Newton.\n",
    "Es necesario darle a la función la funcion objetivo (`funcion`), un valor `ini` que sera el valor inicial y por ultimo una tolerancia `h` que esta predefinida en $0.0001$. Este metodo usa las dos primeras derivada de la funcion para encontrar en mínimo."
   ]
  },
  {
   "cell_type": "code",
   "execution_count": 24,
   "id": "741c9bc7",
   "metadata": {},
   "outputs": [],
   "source": [
    "def met_newton_u(funcion, ini, h = 0.0001):\n",
    "  deri = derivate(funcion)\n",
    "  deri_s = derivate(deri)\n",
    "\n",
    "  row = [1, ini, evaluar_func(deri, {'x':ini}), evaluar_func(deri_s, {'x':ini})]\n",
    "  row.append(row[1] - (row[2]/row[3]))\n",
    "\n",
    "  while abs(row[2]) >= h and abs(row[-1] - row[1]) >= h:\n",
    "    #print(row)\n",
    "    row[0] += 1\n",
    "\n",
    "    row[1] = row[-1]\n",
    "    row[2] = evaluar_func(deri, {'x':row[1]})\n",
    "    row[3] = evaluar_func(deri_s, {'x':row[1]})\n",
    "    row[4] = row[1] - (row[2]/row[3])\n",
    "\n",
    "  return row[-1], evaluar_func(funcion, {'x':row[-1]})"
   ]
  },
  {
   "cell_type": "code",
   "execution_count": 25,
   "id": "1b85f051",
   "metadata": {},
   "outputs": [
    {
     "name": "stdout",
     "output_type": "stream",
     "text": [
      "el punto óptimo es:  (-1.7461395304080125, -0.8102206373303156)\n"
     ]
    }
   ],
   "source": [
    "print('el punto óptimo es: ',met_newton_u(\"e**x+sin(x)\", 2, 0.00000001))"
   ]
  },
  {
   "cell_type": "markdown",
   "id": "56c6c505",
   "metadata": {},
   "source": [
    "#### Función a trozos."
   ]
  },
  {
   "cell_type": "code",
   "execution_count": 26,
   "id": "91217a6d",
   "metadata": {},
   "outputs": [],
   "source": [
    "def opti_trozos(funciones, intervalos, metodo, h=0.001):\n",
    "  soluciones = []\n",
    "  f = []\n",
    "  for i in range(len(funciones)):\n",
    "    soluciones.append(metodo(funciones[i], intervalos[i][0], intervalos[i][1], h))\n",
    "    f.append(soluciones[-1][1])\n",
    "\n",
    "  return soluciones[find_in_list(min(f),f)]"
   ]
  },
  {
   "cell_type": "code",
   "execution_count": 27,
   "id": "cf92acea",
   "metadata": {},
   "outputs": [
    {
     "name": "stdout",
     "output_type": "stream",
     "text": [
      "el punto óptimo es:  (0.9995710083354113, -3.997855961451723)\n"
     ]
    }
   ],
   "source": [
    "print('el punto óptimo es: ', opti_trozos([\"(x+3)/(x-2)\", \"-(x+1)/x\"], [(-20,1),(1,20)], sec_dorada))"
   ]
  },
  {
   "cell_type": "code",
   "execution_count": 28,
   "id": "879f3191",
   "metadata": {},
   "outputs": [
    {
     "name": "stdout",
     "output_type": "stream",
     "text": [
      "el punto óptimo es:  (0.9997735507249135, -3.998868009962891)\n"
     ]
    }
   ],
   "source": [
    "print('el punto óptimo es: ', opti_trozos([\"(x+3)/(x-2)\", \"-(x+1)/x\"], [(-20,1),(1,20)], bus_fibonacci))"
   ]
  },
  {
   "cell_type": "markdown",
   "id": "00c97eba",
   "metadata": {},
   "source": [
    "## Optimización de varias variables.\n",
    "En vez de usar variables como $x$, $y$, $z$, etc., se debe de poner las funciones en terminos de $x_{1}, x_{2}, x_{3} ...$\n",
    "\n",
    "E.j.  $f(\\vec{x})=x_{1}x_{2}+\\frac{\\sin(x_3)}{x_{4}}$"
   ]
  },
  {
   "cell_type": "markdown",
   "id": "ac8e69d8",
   "metadata": {},
   "source": [
    "### Funciones basicas para varias variables."
   ]
  },
  {
   "cell_type": "code",
   "execution_count": null,
   "id": "a3d5b06e",
   "metadata": {},
   "outputs": [],
   "source": [
    "def evaluar_vec(funcion, vec):\n",
    "  return evaluar_func(funcion, {'x' + str(i+1):vec[i] for i in range(len(vec))})"
   ]
  },
  {
   "cell_type": "code",
   "execution_count": null,
   "id": "e070e6de",
   "metadata": {},
   "outputs": [],
   "source": [
    "#ambas funciones retornan una tupla, sin importar si se ingresa una lista o tupla\n",
    "def suma(vec1, vec2):\n",
    "  return tuple(vec1[i] + vec2[i] for i in range(len(vec1)))\n",
    "\n",
    "def multi(const, vec):\n",
    "  return tuple(const * vec[i] for i in range(len(vec)))\n",
    "\n",
    "def suma_var(vec1, vec2):\n",
    "  return tuple(f'{vec1[i]} + {vec2[i]}' for i in range(len(vec1)))\n",
    "\n",
    "def multi_var(const, vec):\n",
    "  return tuple(f'({const}*{str(vec[i])})' for i in range(len(vec)))\n",
    "\n",
    "def evaluar_vec_var(funcion, vec, variables):\n",
    "  for i in range(len(vec)):\n",
    "    funcion = funcion.replace(variables[i], f'({vec[i]})')\n",
    "  return funcion"
   ]
  },
  {
   "cell_type": "markdown",
   "id": "8ad0404e",
   "metadata": {},
   "source": [
    "### Método de Nelder y Mead."
   ]
  },
  {
   "cell_type": "code",
   "execution_count": null,
   "id": "38ffe3c0",
   "metadata": {},
   "outputs": [],
   "source": [
    "def paso5(funcion, lista_p, f_p, puntos, long):\n",
    "  for i in range(len(lista_p)):\n",
    "    lista_p[i] = suma(puntos[1], multi(long, suma(lista_p[i], multi(-1, puntos[1]))))\n",
    "    f_p[i] = evaluar_vec(funcion, lista_p[i])\n",
    "\n",
    "  return lista_p, f_p"
   ]
  },
  {
   "cell_type": "code",
   "execution_count": null,
   "id": "c69c9547",
   "metadata": {},
   "outputs": [],
   "source": [
    "def met_nelder_mead(funcion, x1, tol = 0.0001, reflexion = 1, contraccion = 0.5, expansion = 2, long_paso = 0.5):\n",
    "  #paso 0\n",
    "  #agregar nuevos puntos y tomar sus valores de f\n",
    "  lista = [x1]\n",
    "  fs = [evaluar_vec(funcion, x1)]\n",
    "\n",
    "  e = [0] * len(x1)\n",
    "  for i in range(len(x1)):\n",
    "    e[i] = 1\n",
    "    poi = suma(x1, multi(long_paso, e))\n",
    "    lista.append(poi)\n",
    "    fs.append(evaluar_vec(funcion, poi))\n",
    "    e[i] = 0\n",
    "\n",
    "  while True:\n",
    "    #paso 1\n",
    "    #ordenar\n",
    "    index_min = find_in_list(min(fs), fs)\n",
    "    index_max = find_in_list(max(fs), fs)\n",
    "\n",
    "    lista_sin = lista[:index_max] + lista[index_max+1:]\n",
    "    fs_sin = fs[:index_max] + fs[index_max+1:]\n",
    "    index_maxm = find_in_list(max(fs_sin), fs_sin)\n",
    "    if lista[index_maxm] != lista_sin[index_maxm]:\n",
    "      index_maxm += 1\n",
    "\n",
    "    points = [lista[index_min], lista[index_maxm], lista[index_max]]\n",
    "    del lista_sin, fs_sin\n",
    "    fp = [evaluar_vec(funcion, p) for p in points]\n",
    "\n",
    "    #promedio\n",
    "    promedio = 0\n",
    "    for f in fs:\n",
    "      promedio += f\n",
    "    promedio /= len(fs)\n",
    "\n",
    "    #varianza\n",
    "    varianza = 0\n",
    "    for f in fs:\n",
    "      varianza += (f - promedio)**2\n",
    "    varianza /= len(fs)\n",
    "\n",
    "    if varianza**(1/2) <= tol:\n",
    "      return points[0]\n",
    "\n",
    "    #paso 2\n",
    "    #centroide\n",
    "    x0 = [0]*len(x1)\n",
    "    for i in lista:\n",
    "      if i != points[-1]:\n",
    "        x0 = suma(x0, i)\n",
    "    x0 = multi(1/(len(lista)-1), x0)\n",
    "\n",
    "    #punto de reflexion\n",
    "    xr = suma(multi(1+reflexion, x0), multi((-1)*reflexion, points[-1]))\n",
    "    fr = evaluar_vec(funcion, xr)\n",
    "\n",
    "    if fp[0] <= fr < fp[1]:\n",
    "      lista[index_max] = xr\n",
    "      fs[index_max] = fr\n",
    "\n",
    "    elif fr < fp[0]:\n",
    "      #Paso 3\n",
    "      xe = suma(multi(1+(reflexion*expansion), x0), multi((-1)*reflexion*expansion, points[-1]))\n",
    "      fe = evaluar_vec(funcion, xe)\n",
    "\n",
    "      if fe < fr:\n",
    "        lista[index_max] = xe\n",
    "        fs[index_max] = fe\n",
    "\n",
    "      else:\n",
    "        lista[index_max] = xr\n",
    "        fs[index_max] = fr\n",
    "\n",
    "    elif fr >= fp[1]:\n",
    "      #Paso 4\n",
    "      if fp[1] <= fr < fp[-1]:\n",
    "        xce = suma(multi(1+(reflexion*contraccion), x0), multi((-1)*reflexion*contraccion, points[-1]))\n",
    "        fce = evaluar_vec(funcion, xce)\n",
    "\n",
    "        if fce <= fr:\n",
    "          lista[index_max] = xce\n",
    "          fs[index_max] = fce\n",
    "\n",
    "        else:\n",
    "          lista, fs = paso5(funcion, lista, fs, points, long_paso)\n",
    "\n",
    "      elif fr >= fp[-1]:\n",
    "        xci = suma(multi(1-contraccion, x0), multi(contraccion, points[-1]))\n",
    "        fci = evaluar_vec(funcion, xci)\n",
    "\n",
    "        if fci < fp[-1]:\n",
    "          lista[index_max] = xci\n",
    "          fs[index_max] = fci\n",
    "\n",
    "        else:\n",
    "          lista, fs = paso5(funcion, lista, fs, points, long_paso)\n",
    "\n",
    "    else:\n",
    "      lista, fs = paso5(funcion, lista, fs, points, long_paso)"
   ]
  },
  {
   "cell_type": "code",
   "execution_count": null,
   "id": "5cf4b9b7",
   "metadata": {},
   "outputs": [],
   "source": [
    "print('el punto óptimo es: ',met_nelder_mead('x1**2 - x1*x2 + x2**2 - 3*x2', (0,0), tol = 0.0001))"
   ]
  },
  {
   "cell_type": "code",
   "execution_count": null,
   "id": "35ba3782",
   "metadata": {},
   "outputs": [],
   "source": [
    "print('el punto óptimo es: ',met_nelder_mead('((x1-2)**2 + x2**2)**(1/2)', (0,0), tol = 0.0001))"
   ]
  },
  {
   "cell_type": "markdown",
   "id": "ca064a69",
   "metadata": {},
   "source": [
    "### Método  del descenso más empinado."
   ]
  },
  {
   "cell_type": "code",
   "execution_count": null,
   "id": "74891af1",
   "metadata": {},
   "outputs": [],
   "source": [
    "from scipy.optimize import minimize_scalar\n",
    "from sympy import lambdify\n",
    "def descenso(funcion, x1, tol = 0.0001):\n",
    "  vars = [\"x\"+str(i+1) for i in range(len(x1))]\n",
    "\n",
    "  gradiente = []\n",
    "  norma = ''\n",
    "  e = [0] * len(x1)\n",
    "  for i in range(len(x1)):\n",
    "    e[i] = 1\n",
    "    gradiente.append(derivate(funcion, vars, e))\n",
    "    norma += f'({gradiente[i]})**2'\n",
    "    if i != len(x1) - 1:\n",
    "      norma += ' + '\n",
    "    e[i] = 0\n",
    "\n",
    "  while evaluar_vec(norma, x1)**(1/2) >= tol:\n",
    "    dk = multi(-1, [evaluar_vec(i, x1) for i in gradiente])\n",
    "    try:\n",
    "      lam_k = float(minimize_scalar(lambdify('x', evaluar_vec_var(funcion, suma_var(x1, multi_var('x', dk)), vars)), method='brent').x)\n",
    "    except:\n",
    "      return x1\n",
    "\n",
    "    x1 = suma(x1, multi(lam_k, dk))\n",
    "\n",
    "  return x1"
   ]
  },
  {
   "cell_type": "code",
   "execution_count": null,
   "id": "fa4a3084",
   "metadata": {},
   "outputs": [],
   "source": [
    "print('el punto óptimo es: ',descenso('(8 - x1*x2)**2 + 7*(x2 - x1**2)**2', (0,3), 0.0001))"
   ]
  }
 ],
 "metadata": {
  "kernelspec": {
   "display_name": "Python 3",
   "language": "python",
   "name": "python3"
  },
  "language_info": {
   "codemirror_mode": {
    "name": "ipython",
    "version": 3
   },
   "file_extension": ".py",
   "mimetype": "text/x-python",
   "name": "python",
   "nbconvert_exporter": "python",
   "pygments_lexer": "ipython3",
   "version": "3.10.3"
  }
 },
 "nbformat": 4,
 "nbformat_minor": 5
}
